{
 "cells": [
  {
   "cell_type": "markdown",
   "metadata": {},
   "source": [
    "# Chapter 3 Distance Metrics\n",
    "\n",
    "Look beyond correlations to understand codependency"
   ]
  },
  {
   "cell_type": "code",
   "execution_count": 1,
   "metadata": {
    "ExecuteTime": {
     "end_time": "2020-08-27T21:32:53.539199Z",
     "start_time": "2020-08-27T21:32:52.544815Z"
    }
   },
   "outputs": [],
   "source": [
    "import numpy as np\n",
    "import pandas as pd\n",
    "import matplotlib.pyplot as plt\n",
    "from tqdm.notebook import tqdm"
   ]
  },
  {
   "cell_type": "code",
   "execution_count": null,
   "metadata": {
    "ExecuteTime": {
     "end_time": "2020-08-27T21:33:16.310384Z",
     "start_time": "2020-08-27T21:33:16.295300Z"
    }
   },
   "outputs": [],
   "source": [
    "# SNIPPET 3.1 MARGINAL, JOINT, CONDITIONAL ENTROPIES, AND MUTUAL INFORMATION\n",
    "import numpy as np\n",
    "import scipy.stats as ss\n",
    "from sklearn.metrics import mutual_info_score\n",
    "\n",
    "x = np.random.random(100)\n",
    "y = np.random.random(100)\n",
    "bins = 100\n",
    "# The bi-dimensional histogram of samples x and y. Values in x are histogrammed along the first dimension and values in y are histogrammed along the second dimension.\n",
    "cXY = np.histogram2d(x, y, bins)[0]\n",
    "hX = ss.entropy(np.histogram(x, bins)[0])  # marginal\n",
    "hY = ss.entropy(np.histogram(y, bins)[0])  # marginal\n",
    "iXY = mutual_info_score(None, None, contingency=cXY)\n",
    "iXYn = iXY/min(hX, hY)  # normalized mutual information\n",
    "hXY = hX+hY-iXY  # joint\n",
    "hX_Y = hXY-hY  # conditional\n",
    "hY_X = hXY-hX  # conditional\n",
    "\n",
    "print('**'*8+'\\n')\n",
    "print('hX marginal entropy: {}'.format(hX))\n",
    "print('hY marginal entropy: {}'.format(hY))\n",
    "print('iXY mutual info score: {}'.format(iXY))\n",
    "print('iXYn normalized mutual information: {}'.format(iXYn))\n",
    "print('hX_Y cross entropy between x and y : {}'.format(hX_Y))\n",
    "print('hY_X cross entropy between y and x : {}'.format(hY_X))"
   ]
  },
  {
   "cell_type": "code",
   "execution_count": 5,
   "metadata": {
    "ExecuteTime": {
     "end_time": "2020-08-27T21:33:19.716512Z",
     "start_time": "2020-08-27T21:33:19.703179Z"
    }
   },
   "outputs": [],
   "source": [
    "# SNIPPET 3.2 MUTUAL INFORMATION, VARIATION OF INFORMATION, AND NORMALIZED VARIATION OF INFORMATION\n",
    "def varInfo(x, y, bins, norm=False):\n",
    "    # variation of information\n",
    "    cXY = np.histogram2d(x, y, bins)[0]\n",
    "    iXY = mutual_info_score(None, None, contingency=cXY)\n",
    "    hX = ss.entropy(np.histogram(x, bins)[0])  # marginal\n",
    "    hY = ss.entropy(np.histogram(y, bins)[0])  # marginal\n",
    "    vXY = hX+hY-2*iXY  # variation of information\n",
    "    if norm:\n",
    "        hXY = hX+hY-iXY  # joint\n",
    "        vXY /= hXY  # normalized variation of information\n",
    "    return vXY"
   ]
  },
  {
   "cell_type": "code",
   "execution_count": 6,
   "metadata": {
    "ExecuteTime": {
     "end_time": "2020-08-27T21:33:20.703804Z",
     "start_time": "2020-08-27T21:33:20.689116Z"
    }
   },
   "outputs": [],
   "source": [
    "# SNIPPET 3.3 VARIATION OF INFORMATION ON DISCRETIZED CONTINUOUS RANDOM VARIABLES\n",
    "def numBins(nObs, corr=None):\n",
    "    # Optimal number of bins for discretization\n",
    "    if corr is None:  # univariate case\n",
    "        z = (8+324*nObs+12*(36*nObs+729*nObs**2)**.5)**(1/3.)\n",
    "        b = round(z/6.+2./(3*z)+1./3)\n",
    "    else:  # bivariate case\n",
    "        if (1.-corr**2) == 0:\n",
    "            corr = np.sign(corr)*(np.abs(corr)-1e-5)\n",
    "        b = round(2**-.5*(1+(1+24*nObs/(1.-corr**2))**.5)**.5)\n",
    "    return int(b)\n",
    "# ---------------------------------------------------\n",
    "\n",
    "\n",
    "def varInfo_optBIn(x, y, norm=False):  # Discretized and with optimal bin value\n",
    "    # variation of information\n",
    "    bXY = numBins(x.shape[0], corr=np.corrcoef(x, y)[0, 1])\n",
    "    cXY = np.histogram2d(x, y, bXY)[0]\n",
    "    iXY = mutual_info_score(None, None, contingency=cXY)\n",
    "    hX = ss.entropy(np.histogram(x, bXY)[0])  # marginal\n",
    "    hY = ss.entropy(np.histogram(y, bXY)[0])  # marginal\n",
    "    vXY = hX+hY-2*iXY  # variation of information\n",
    "    if norm:\n",
    "        hXY = hX+hY-iXY  # joint\n",
    "        vXY /= hXY  # normalized variation of information\n",
    "    return vXY"
   ]
  },
  {
   "cell_type": "code",
   "execution_count": 7,
   "metadata": {
    "ExecuteTime": {
     "end_time": "2020-08-27T21:33:21.627253Z",
     "start_time": "2020-08-27T21:33:21.586237Z"
    }
   },
   "outputs": [],
   "source": [
    "# SNIPPET 3.4 CORRELATION AND NORMALIZED MUTUAL INFORMATION OF TWO INDEPENDENT GAUSSIAN RANDOM VARIABLES\n",
    "def mutualInfo(x, y, norm=False):\n",
    "    # mutual information\n",
    "    bXY = numBins(x.shape[0], corr=np.corrcoef(x, y)[0, 1])\n",
    "    cXY = np.histogram2d(x, y, bXY)[0]\n",
    "    iXY = mutual_info_score(None, None, contingency=cXY)\n",
    "    if norm:\n",
    "        hX = ss.entropy(np.histogram(x, bXY)[0])  # marginal\n",
    "        hY = ss.entropy(np.histogram(y, bXY)[0])  # marginal\n",
    "        iXY /= min(hX, hY)  # normalized mutual information\n",
    "    return iXY\n",
    "\n",
    "\n",
    "# ---------------------------------------------------\n",
    "size, seed = 5000, 0\n",
    "np.random.seed(seed)\n",
    "x = np.random.normal(size=size)\n",
    "e = np.random.normal(size=size)\n",
    "y = 0*x+e\n",
    "nmi = mutualInfo(x, y, True)\n",
    "corr = np.corrcoef(x, y)[0, 1]"
   ]
  },
  {
   "cell_type": "code",
   "execution_count": null,
   "metadata": {
    "ExecuteTime": {
     "end_time": "2020-08-27T21:43:19.429289Z",
     "start_time": "2020-08-27T21:42:13.142102Z"
    }
   },
   "outputs": [],
   "source": [
    "# Exercise 3.13.1\n",
    "\n",
    "\n",
    "bins = 10\n",
    "\n",
    "rho_list = [-1, -0.5, 0, 0.5, 1]\n",
    "hX = hY = hXY = hX_Y = iXY = viXY = vi_t_XY = np.zeros(len(rho_list))\n",
    "for i in tqdm(range(len(rho_list))):\n",
    "    rho = rho_list[i]\n",
    "    mu, sigma = 0, 1\n",
    "    rr = np.random.normal(mu, sigma, size=(2, 1000))\n",
    "    x, y_ = rr[0, :], rr[1, :]\n",
    "    y = rho * x+np.sqrt(1-rho**2)*y_\n",
    "\n",
    "    # The bi-dimensional histogram of samples x and y. Values in x are histogrammed along the first dimension and values in y are histogrammed along the second dimension.\n",
    "    cXY = np.histogram2d(x, y, bins)[0]\n",
    "    hX[i] = ss.entropy(np.histogram(x, bins)[0])  # marginal\n",
    "    hY[i] = ss.entropy(np.histogram(y, bins)[0])  # marginal\n",
    "    iXY[i] = mutual_info_score(None, None, contingency=cXY)\n",
    "    hXY[i] = hX[i]+hY[i]-iXY[i]  # joint\n",
    "    hX_Y[i] = hXY[i]-hY[i]  # conditional\n",
    "    viXY[i] = varInfo(x, y, bins)\n",
    "    vi_t_XY[i] = varInfo_optBIn(x, y)\n",
    "\n",
    "fig = plt.figure()\n",
    "ax = fig.add_subplot(111)\n",
    "ax.plot(rho_list, hX, label='H[X]')\n",
    "ax.plot(rho_list, hY, label='H[Y]')\n",
    "# ax.plot(rho_list, hXY, label='H[X,Y]')\n",
    "# ax.plot(rho_list, hX_Y, label='H[X|Y]')\n",
    "# ax.plot(rho_list, iXY, label='I[X,Y]')\n",
    "# ax.plot(rho_list, viXY, label='VI[X,Y]')\n",
    "# ax.plot(rho_list, vi_t_XY, label=r'$\\tilde{VI}$[X,Y]')\n",
    "ax.legend()"
   ]
  },
  {
   "cell_type": "code",
   "execution_count": null,
   "metadata": {
    "ExecuteTime": {
     "end_time": "2020-08-27T21:42:04.009916Z",
     "start_time": "2020-08-27T21:42:03.994430Z"
    }
   },
   "outputs": [],
   "source": [
    "cXY = np.histogram2d(x, y, bins)[0]\n",
    "cXY"
   ]
  },
  {
   "cell_type": "code",
   "execution_count": null,
   "metadata": {
    "ExecuteTime": {
     "end_time": "2020-08-27T21:30:50.493228Z",
     "start_time": "2020-08-27T21:30:50.479832Z"
    }
   },
   "outputs": [],
   "source": [
    "rr = np.random.normal(mu, sigma, size=(2, 1000))\n",
    "rr[0,:].shape"
   ]
  }
 ],
 "metadata": {
  "kernelspec": {
   "display_name": "Python 3",
   "language": "python",
   "name": "python3"
  },
  "language_info": {
   "codemirror_mode": {
    "name": "ipython",
    "version": 3
   },
   "file_extension": ".py",
   "mimetype": "text/x-python",
   "name": "python",
   "nbconvert_exporter": "python",
   "pygments_lexer": "ipython3",
   "version": "3.7.1"
  },
  "latex_envs": {
   "LaTeX_envs_menu_present": true,
   "autoclose": false,
   "autocomplete": true,
   "bibliofile": "biblio.bib",
   "cite_by": "apalike",
   "current_citInitial": 1,
   "eqLabelWithNumbers": true,
   "eqNumInitial": 1,
   "hotkeys": {
    "equation": "Ctrl-E",
    "itemize": "Ctrl-I"
   },
   "labels_anchors": false,
   "latex_user_defs": false,
   "report_style_numbering": false,
   "user_envs_cfg": false
  },
  "toc": {
   "base_numbering": 1,
   "nav_menu": {},
   "number_sections": true,
   "sideBar": true,
   "skip_h1_title": false,
   "title_cell": "Table of Contents",
   "title_sidebar": "Contents",
   "toc_cell": false,
   "toc_position": {},
   "toc_section_display": true,
   "toc_window_display": false
  }
 },
 "nbformat": 4,
 "nbformat_minor": 2
}
