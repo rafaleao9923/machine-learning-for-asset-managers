{
 "cells": [
  {
   "cell_type": "code",
   "execution_count": 10,
   "metadata": {
    "ExecuteTime": {
     "end_time": "2020-09-10T16:09:55.457567Z",
     "start_time": "2020-09-10T16:09:55.452187Z"
    }
   },
   "outputs": [],
   "source": [
    "# SNIPPET 5.1 T-VALUE OF A LINEAR TREND\n",
    "import statsmodels.api as sm1\n",
    "import numpy as np\n",
    "import pandas as pd\n",
    "# ---------------------------------------------------\n",
    "\n",
    "\n",
    "def tValLinR(close):\n",
    "    # tValue of the beta coefficient of the trend on time index from a linear trend (it shows the significance of )\n",
    "    x = np.ones((close.shape[0], 2))\n",
    "    x[:, 1] = np.arange(close.shape[0])\n",
    "    ols = sm1.OLS(close, x).fit()\n",
    "    return ols.tvalues[1]"
   ]
  },
  {
   "cell_type": "code",
   "execution_count": 7,
   "metadata": {
    "ExecuteTime": {
     "end_time": "2020-09-10T16:09:02.604212Z",
     "start_time": "2020-09-10T16:09:02.595360Z"
    }
   },
   "outputs": [],
   "source": [
    "# SNIPPET 5.2 IMPLEMENTATION OF THE TREND-SCANNING METHOD\n",
    "def getBinsFromTrend(molecule, close, span):\n",
    "    '''\n",
    "    Derive labels from the sign of t-value of linear trend\n",
    "    Output includes:\n",
    "        - t1: End time for the identified trend\n",
    "        - tVal: t-value associated with the estimated trend coefficient \n",
    "        - bin: Sign of the trend\n",
    "    '''\n",
    "    out = pd.DataFrame(index=molecule, columns=['t1', 'tVal', 'bin'])\n",
    "    hrzns = range(*span)\n",
    "    for dt0 in molecule:\n",
    "        df0 = pd.Series()\n",
    "        iloc0 = close.index.get_loc(dt0)\n",
    "        if iloc0+max(hrzns) > close.shape[0]:\n",
    "            continue\n",
    "        for hrzn in hrzns:\n",
    "            dt1 = close.index[iloc0+hrzn-1]\n",
    "            df1 = close.loc[dt0:dt1]\n",
    "            df0.loc[dt1] = tValLinR(df1.values)\n",
    "        dt1 = df0.replace([-np.inf, np.inf, np.nan], 0).abs().idxmax()\n",
    "        out.loc[dt0, ['t1', 'tVal', 'bin']\n",
    "                ] = df0.index[-1], df0[dt1], np.sign(df0[dt1])  # prevent leakage\n",
    "    out['t1'] = pd.to_datetime(out['t1'])\n",
    "    out['bin'] = pd.to_numeric(out['bin'], downcast='signed')\n",
    "    return out.dropna(subset=['bin'])"
   ]
  },
  {
   "cell_type": "code",
   "execution_count": null,
   "metadata": {
    "ExecuteTime": {
     "end_time": "2020-09-10T16:19:36.703676Z",
     "start_time": "2020-09-10T16:19:35.856896Z"
    }
   },
   "outputs": [],
   "source": [
    "# SNIPPET 5.3 TESTING THE TREND-SCANNING LABELING ALGORITHM\n",
    "import matplotlib.pyplot as plt\n",
    "df0 = pd.Series(np.random.normal(0, .1, 100)).cumsum()\n",
    "df1 = getBinsFromTrend(df0.index, df0, [3, 10, 1])\n",
    "fig = plt.figure()\n",
    "ax = fig.add_subplot(111)\n",
    "ax.scatter(df1.index, df0.loc[df1.index].values,\n",
    "           c=df1['bin'].values, cmap='viridis')\n",
    "ax.set_title('Simu without Sine trend')"
   ]
  },
  {
   "cell_type": "code",
   "execution_count": null,
   "metadata": {
    "ExecuteTime": {
     "end_time": "2020-09-10T16:19:47.720841Z",
     "start_time": "2020-09-10T16:19:46.878522Z"
    }
   },
   "outputs": [],
   "source": [
    "df0 = pd.Series(np.random.normal(0, .1, 100)).cumsum()\n",
    "df0 += np.sin(np.linspace(0, 10, df0.shape[0]))\n",
    "df1 = getBinsFromTrend(df0.index, df0, [3, 10, 1])\n",
    "fig = plt.figure()\n",
    "ax = fig.add_subplot(111)\n",
    "ax.scatter(df1.index, df0.loc[df1.index].values,\n",
    "           c=df1['tVal'].values, cmap='viridis')\n",
    "ax.set_title('Simu with Sine trend')\n",
    "# mpl.savefig('fig 5.1.png');\n",
    "# mpl.clf();\n",
    "# mpl.close()\n",
    "# mpl.scatter(df1.index,df0.loc[df1.index].values,cmap='viridis')"
   ]
  }
 ],
 "metadata": {
  "kernelspec": {
   "display_name": "Python 3",
   "language": "python",
   "name": "python3"
  },
  "language_info": {
   "codemirror_mode": {
    "name": "ipython",
    "version": 3
   },
   "file_extension": ".py",
   "mimetype": "text/x-python",
   "name": "python",
   "nbconvert_exporter": "python",
   "pygments_lexer": "ipython3",
   "version": "3.7.1"
  },
  "latex_envs": {
   "LaTeX_envs_menu_present": true,
   "autoclose": false,
   "autocomplete": true,
   "bibliofile": "biblio.bib",
   "cite_by": "apalike",
   "current_citInitial": 1,
   "eqLabelWithNumbers": true,
   "eqNumInitial": 1,
   "hotkeys": {
    "equation": "Ctrl-E",
    "itemize": "Ctrl-I"
   },
   "labels_anchors": false,
   "latex_user_defs": false,
   "report_style_numbering": false,
   "user_envs_cfg": false
  },
  "toc": {
   "base_numbering": 1,
   "nav_menu": {},
   "number_sections": true,
   "sideBar": true,
   "skip_h1_title": false,
   "title_cell": "Table of Contents",
   "title_sidebar": "Contents",
   "toc_cell": false,
   "toc_position": {},
   "toc_section_display": true,
   "toc_window_display": false
  }
 },
 "nbformat": 4,
 "nbformat_minor": 2
}
