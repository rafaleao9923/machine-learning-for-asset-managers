{
 "cells": [
  {
   "cell_type": "markdown",
   "metadata": {},
   "source": [
    "# Chapter 3 Distance Metrics\n",
    "\n",
    "Look beyond correlations to understand codependency"
   ]
  },
  {
   "cell_type": "code",
   "execution_count": 1,
   "metadata": {
    "ExecuteTime": {
     "end_time": "2020-08-27T21:32:53.539199Z",
     "start_time": "2020-08-27T21:32:52.544815Z"
    }
   },
   "outputs": [],
   "source": [
    "import numpy as np,pandas as pd\n",
    "import matplotlib.pyplot as plt\n",
    "from tqdm.notebook import tqdm"
   ]
  },
  {
   "cell_type": "code",
   "execution_count": 4,
   "metadata": {
    "ExecuteTime": {
     "end_time": "2020-08-27T21:33:16.310384Z",
     "start_time": "2020-08-27T21:33:16.295300Z"
    }
   },
   "outputs": [
    {
     "name": "stdout",
     "output_type": "stream",
     "text": [
      "****************\n",
      "\n",
      "hX marginal entropy: 4.074017112668638\n",
      "hY marginal entropy: 4.0747093273590576\n",
      "iXY mutual info score: 3.5435562540396055\n",
      "iXYn normalized mutual information: 0.8697941505990483\n",
      "hX_Y cross entropy between x and y : 0.5304608586290325\n",
      "hY_X cross entropy between y and x : 0.5311530733194516\n"
     ]
    }
   ],
   "source": [
    "#SNIPPET 3.1 MARGINAL, JOINT, CONDITIONAL ENTROPIES, AND MUTUAL INFORMATION\n",
    "import numpy as np,scipy.stats as ss\n",
    "from sklearn.metrics import mutual_info_score\n",
    "\n",
    "x = np.random.random(100)\n",
    "y = np.random.random(100)\n",
    "bins = 100\n",
    "cXY=np.histogram2d(x,y,bins)[0] # The bi-dimensional histogram of samples x and y. Values in x are histogrammed along the first dimension and values in y are histogrammed along the second dimension.\n",
    "hX=ss.entropy(np.histogram(x,bins)[0]) # marginal \n",
    "hY=ss.entropy(np.histogram(y,bins)[0]) # marginal \n",
    "iXY=mutual_info_score(None,None,contingency=cXY) \n",
    "iXYn=iXY/min(hX,hY) # normalized mutual information \n",
    "hXY=hX+hY-iXY # joint\n",
    "hX_Y=hXY-hY # conditional\n",
    "hY_X=hXY-hX # conditional\n",
    "\n",
    "print('**'*8+'\\n')\n",
    "print('hX marginal entropy: {}'.format(hX))\n",
    "print('hY marginal entropy: {}'.format(hY))\n",
    "print('iXY mutual info score: {}'.format(iXY))\n",
    "print('iXYn normalized mutual information: {}'.format(iXYn))\n",
    "print('hX_Y cross entropy between x and y : {}'.format(hX_Y))\n",
    "print('hY_X cross entropy between y and x : {}'.format(hY_X))"
   ]
  },
  {
   "cell_type": "code",
   "execution_count": 5,
   "metadata": {
    "ExecuteTime": {
     "end_time": "2020-08-27T21:33:19.716512Z",
     "start_time": "2020-08-27T21:33:19.703179Z"
    }
   },
   "outputs": [],
   "source": [
    "#SNIPPET 3.2 MUTUAL INFORMATION, VARIATION OF INFORMATION, AND NORMALIZED VARIATION OF INFORMATION\n",
    "def varInfo(x,y,bins,norm=False):\n",
    "    # variation of information\n",
    "    cXY=np.histogram2d(x,y,bins)[0] \n",
    "    iXY=mutual_info_score(None,None,contingency=cXY) \n",
    "    hX=ss.entropy(np.histogram(x,bins)[0]) # marginal \n",
    "    hY=ss.entropy(np.histogram(y,bins)[0]) # marginal \n",
    "    vXY=hX+hY-2*iXY # variation of information\n",
    "    if norm:\n",
    "        hXY=hX+hY-iXY # joint\n",
    "        vXY/=hXY # normalized variation of information\n",
    "    return vXY"
   ]
  },
  {
   "cell_type": "code",
   "execution_count": 6,
   "metadata": {
    "ExecuteTime": {
     "end_time": "2020-08-27T21:33:20.703804Z",
     "start_time": "2020-08-27T21:33:20.689116Z"
    }
   },
   "outputs": [],
   "source": [
    "#SNIPPET 3.3 VARIATION OF INFORMATION ON DISCRETIZED CONTINUOUS RANDOM VARIABLES\n",
    "def numBins(nObs,corr=None):\n",
    "# Optimal number of bins for discretization \n",
    "    if corr is None: # univariate case\n",
    "        z=(8+324*nObs+12*(36*nObs+729*nObs**2)**.5)**(1/3.)\n",
    "        b=round(z/6.+2./(3*z)+1./3) \n",
    "    else: # bivariate case\n",
    "        if (1.-corr**2)==0:\n",
    "            corr = np.sign(corr)*(np.abs(corr)-1e-5)  \n",
    "        b=round(2**-.5*(1+(1+24*nObs/(1.-corr**2))**.5)**.5) \n",
    "    return int(b)\n",
    "#--------------------------------------------------- \n",
    "def varInfo_optBIn(x,y,norm=False): # Discretized and with optimal bin value\n",
    "    # variation of information\n",
    "    bXY=numBins(x.shape[0],corr=np.corrcoef(x,y)[0,1]) \n",
    "    cXY=np.histogram2d(x,y,bXY)[0] \n",
    "    iXY=mutual_info_score(None,None,contingency=cXY) \n",
    "    hX=ss.entropy(np.histogram(x,bXY)[0]) # marginal \n",
    "    hY=ss.entropy(np.histogram(y,bXY)[0]) # marginal \n",
    "    vXY=hX+hY-2*iXY # variation of information\n",
    "    if norm:\n",
    "        hXY=hX+hY-iXY # joint\n",
    "        vXY/=hXY # normalized variation of information\n",
    "    return vXY"
   ]
  },
  {
   "cell_type": "code",
   "execution_count": 7,
   "metadata": {
    "ExecuteTime": {
     "end_time": "2020-08-27T21:33:21.627253Z",
     "start_time": "2020-08-27T21:33:21.586237Z"
    }
   },
   "outputs": [],
   "source": [
    "#SNIPPET 3.4 CORRELATION AND NORMALIZED MUTUAL INFORMATION OF TWO INDEPENDENT GAUSSIAN RANDOM VARIABLES\n",
    "def mutualInfo(x,y,norm=False):\n",
    "    # mutual information\n",
    "    bXY=numBins(x.shape[0],corr=np.corrcoef(x,y)[0,1]) \n",
    "    cXY=np.histogram2d(x,y,bXY)[0] \n",
    "    iXY=mutual_info_score(None,None,contingency=cXY) \n",
    "    if norm:\n",
    "        hX=ss.entropy(np.histogram(x,bXY)[0]) # marginal \n",
    "        hY=ss.entropy(np.histogram(y,bXY)[0]) # marginal \n",
    "        iXY/=min(hX,hY) # normalized mutual information\n",
    "    return iXY \n",
    "#--------------------------------------------------- \n",
    "size,seed=5000,0\n",
    "np.random.seed(seed)\n",
    "x=np.random.normal(size=size)\n",
    "e=np.random.normal(size=size)\n",
    "y=0*x+e\n",
    "nmi=mutualInfo(x,y,True)\n",
    "corr=np.corrcoef(x,y)[0,1]"
   ]
  },
  {
   "cell_type": "code",
   "execution_count": 18,
   "metadata": {
    "ExecuteTime": {
     "end_time": "2020-08-27T21:43:19.429289Z",
     "start_time": "2020-08-27T21:42:13.142102Z"
    }
   },
   "outputs": [
    {
     "data": {
      "application/vnd.jupyter.widget-view+json": {
       "model_id": "24994fcfd4b748ce8822bbec1a47195d",
       "version_major": 2,
       "version_minor": 0
      },
      "text/plain": [
       "HBox(children=(FloatProgress(value=0.0, max=5.0), HTML(value='')))"
      ]
     },
     "metadata": {},
     "output_type": "display_data"
    },
    {
     "ename": "KeyboardInterrupt",
     "evalue": "",
     "output_type": "error",
     "traceback": [
      "\u001b[0;31m---------------------------------------------------------------------------\u001b[0m",
      "\u001b[0;31mKeyboardInterrupt\u001b[0m                         Traceback (most recent call last)",
      "\u001b[0;32m<ipython-input-18-2d4e48591abc>\u001b[0m in \u001b[0;36m<module>\u001b[0;34m\u001b[0m\n\u001b[1;32m     21\u001b[0m     \u001b[0mhX_Y\u001b[0m\u001b[0;34m[\u001b[0m\u001b[0mi\u001b[0m\u001b[0;34m]\u001b[0m \u001b[0;34m=\u001b[0m \u001b[0mhXY\u001b[0m\u001b[0;34m[\u001b[0m\u001b[0mi\u001b[0m\u001b[0;34m]\u001b[0m\u001b[0;34m-\u001b[0m\u001b[0mhY\u001b[0m\u001b[0;34m[\u001b[0m\u001b[0mi\u001b[0m\u001b[0;34m]\u001b[0m  \u001b[0;31m# conditional\u001b[0m\u001b[0;34m\u001b[0m\u001b[0;34m\u001b[0m\u001b[0m\n\u001b[1;32m     22\u001b[0m     \u001b[0mviXY\u001b[0m\u001b[0;34m[\u001b[0m\u001b[0mi\u001b[0m\u001b[0;34m]\u001b[0m \u001b[0;34m=\u001b[0m \u001b[0mvarInfo\u001b[0m\u001b[0;34m(\u001b[0m\u001b[0mx\u001b[0m\u001b[0;34m,\u001b[0m \u001b[0my\u001b[0m\u001b[0;34m,\u001b[0m \u001b[0mbins\u001b[0m\u001b[0;34m)\u001b[0m\u001b[0;34m\u001b[0m\u001b[0;34m\u001b[0m\u001b[0m\n\u001b[0;32m---> 23\u001b[0;31m     \u001b[0mvi_t_XY\u001b[0m\u001b[0;34m[\u001b[0m\u001b[0mi\u001b[0m\u001b[0;34m]\u001b[0m \u001b[0;34m=\u001b[0m \u001b[0mvarInfo_optBIn\u001b[0m\u001b[0;34m(\u001b[0m\u001b[0mx\u001b[0m\u001b[0;34m,\u001b[0m \u001b[0my\u001b[0m\u001b[0;34m)\u001b[0m\u001b[0;34m\u001b[0m\u001b[0;34m\u001b[0m\u001b[0m\n\u001b[0m\u001b[1;32m     24\u001b[0m \u001b[0;34m\u001b[0m\u001b[0m\n\u001b[1;32m     25\u001b[0m \u001b[0mfig\u001b[0m \u001b[0;34m=\u001b[0m \u001b[0mplt\u001b[0m\u001b[0;34m.\u001b[0m\u001b[0mfigure\u001b[0m\u001b[0;34m(\u001b[0m\u001b[0;34m)\u001b[0m\u001b[0;34m\u001b[0m\u001b[0;34m\u001b[0m\u001b[0m\n",
      "\u001b[0;32m<ipython-input-6-4cdbae3c3dfe>\u001b[0m in \u001b[0;36mvarInfo_optBIn\u001b[0;34m(x, y, norm)\u001b[0m\n\u001b[1;32m     14\u001b[0m     \u001b[0;31m# variation of information\u001b[0m\u001b[0;34m\u001b[0m\u001b[0;34m\u001b[0m\u001b[0;34m\u001b[0m\u001b[0m\n\u001b[1;32m     15\u001b[0m     \u001b[0mbXY\u001b[0m\u001b[0;34m=\u001b[0m\u001b[0mnumBins\u001b[0m\u001b[0;34m(\u001b[0m\u001b[0mx\u001b[0m\u001b[0;34m.\u001b[0m\u001b[0mshape\u001b[0m\u001b[0;34m[\u001b[0m\u001b[0;36m0\u001b[0m\u001b[0;34m]\u001b[0m\u001b[0;34m,\u001b[0m\u001b[0mcorr\u001b[0m\u001b[0;34m=\u001b[0m\u001b[0mnp\u001b[0m\u001b[0;34m.\u001b[0m\u001b[0mcorrcoef\u001b[0m\u001b[0;34m(\u001b[0m\u001b[0mx\u001b[0m\u001b[0;34m,\u001b[0m\u001b[0my\u001b[0m\u001b[0;34m)\u001b[0m\u001b[0;34m[\u001b[0m\u001b[0;36m0\u001b[0m\u001b[0;34m,\u001b[0m\u001b[0;36m1\u001b[0m\u001b[0;34m]\u001b[0m\u001b[0;34m)\u001b[0m\u001b[0;34m\u001b[0m\u001b[0;34m\u001b[0m\u001b[0m\n\u001b[0;32m---> 16\u001b[0;31m     \u001b[0mcXY\u001b[0m\u001b[0;34m=\u001b[0m\u001b[0mnp\u001b[0m\u001b[0;34m.\u001b[0m\u001b[0mhistogram2d\u001b[0m\u001b[0;34m(\u001b[0m\u001b[0mx\u001b[0m\u001b[0;34m,\u001b[0m\u001b[0my\u001b[0m\u001b[0;34m,\u001b[0m\u001b[0mbXY\u001b[0m\u001b[0;34m)\u001b[0m\u001b[0;34m[\u001b[0m\u001b[0;36m0\u001b[0m\u001b[0;34m]\u001b[0m\u001b[0;34m\u001b[0m\u001b[0;34m\u001b[0m\u001b[0m\n\u001b[0m\u001b[1;32m     17\u001b[0m     \u001b[0miXY\u001b[0m\u001b[0;34m=\u001b[0m\u001b[0mmutual_info_score\u001b[0m\u001b[0;34m(\u001b[0m\u001b[0;32mNone\u001b[0m\u001b[0;34m,\u001b[0m\u001b[0;32mNone\u001b[0m\u001b[0;34m,\u001b[0m\u001b[0mcontingency\u001b[0m\u001b[0;34m=\u001b[0m\u001b[0mcXY\u001b[0m\u001b[0;34m)\u001b[0m\u001b[0;34m\u001b[0m\u001b[0;34m\u001b[0m\u001b[0m\n\u001b[1;32m     18\u001b[0m     \u001b[0mhX\u001b[0m\u001b[0;34m=\u001b[0m\u001b[0mss\u001b[0m\u001b[0;34m.\u001b[0m\u001b[0mentropy\u001b[0m\u001b[0;34m(\u001b[0m\u001b[0mnp\u001b[0m\u001b[0;34m.\u001b[0m\u001b[0mhistogram\u001b[0m\u001b[0;34m(\u001b[0m\u001b[0mx\u001b[0m\u001b[0;34m,\u001b[0m\u001b[0mbXY\u001b[0m\u001b[0;34m)\u001b[0m\u001b[0;34m[\u001b[0m\u001b[0;36m0\u001b[0m\u001b[0;34m]\u001b[0m\u001b[0;34m)\u001b[0m \u001b[0;31m# marginal\u001b[0m\u001b[0;34m\u001b[0m\u001b[0;34m\u001b[0m\u001b[0m\n",
      "\u001b[0;32m<__array_function__ internals>\u001b[0m in \u001b[0;36mhistogram2d\u001b[0;34m(*args, **kwargs)\u001b[0m\n",
      "\u001b[0;32m/anaconda3/lib/python3.7/site-packages/numpy/lib/twodim_base.py\u001b[0m in \u001b[0;36mhistogram2d\u001b[0;34m(x, y, bins, range, normed, weights, density)\u001b[0m\n\u001b[1;32m    711\u001b[0m         \u001b[0mxedges\u001b[0m \u001b[0;34m=\u001b[0m \u001b[0myedges\u001b[0m \u001b[0;34m=\u001b[0m \u001b[0masarray\u001b[0m\u001b[0;34m(\u001b[0m\u001b[0mbins\u001b[0m\u001b[0;34m)\u001b[0m\u001b[0;34m\u001b[0m\u001b[0;34m\u001b[0m\u001b[0m\n\u001b[1;32m    712\u001b[0m         \u001b[0mbins\u001b[0m \u001b[0;34m=\u001b[0m \u001b[0;34m[\u001b[0m\u001b[0mxedges\u001b[0m\u001b[0;34m,\u001b[0m \u001b[0myedges\u001b[0m\u001b[0;34m]\u001b[0m\u001b[0;34m\u001b[0m\u001b[0;34m\u001b[0m\u001b[0m\n\u001b[0;32m--> 713\u001b[0;31m     \u001b[0mhist\u001b[0m\u001b[0;34m,\u001b[0m \u001b[0medges\u001b[0m \u001b[0;34m=\u001b[0m \u001b[0mhistogramdd\u001b[0m\u001b[0;34m(\u001b[0m\u001b[0;34m[\u001b[0m\u001b[0mx\u001b[0m\u001b[0;34m,\u001b[0m \u001b[0my\u001b[0m\u001b[0;34m]\u001b[0m\u001b[0;34m,\u001b[0m \u001b[0mbins\u001b[0m\u001b[0;34m,\u001b[0m \u001b[0mrange\u001b[0m\u001b[0;34m,\u001b[0m \u001b[0mnormed\u001b[0m\u001b[0;34m,\u001b[0m \u001b[0mweights\u001b[0m\u001b[0;34m,\u001b[0m \u001b[0mdensity\u001b[0m\u001b[0;34m)\u001b[0m\u001b[0;34m\u001b[0m\u001b[0;34m\u001b[0m\u001b[0m\n\u001b[0m\u001b[1;32m    714\u001b[0m     \u001b[0;32mreturn\u001b[0m \u001b[0mhist\u001b[0m\u001b[0;34m,\u001b[0m \u001b[0medges\u001b[0m\u001b[0;34m[\u001b[0m\u001b[0;36m0\u001b[0m\u001b[0;34m]\u001b[0m\u001b[0;34m,\u001b[0m \u001b[0medges\u001b[0m\u001b[0;34m[\u001b[0m\u001b[0;36m1\u001b[0m\u001b[0;34m]\u001b[0m\u001b[0;34m\u001b[0m\u001b[0;34m\u001b[0m\u001b[0m\n\u001b[1;32m    715\u001b[0m \u001b[0;34m\u001b[0m\u001b[0m\n",
      "\u001b[0;32m<__array_function__ internals>\u001b[0m in \u001b[0;36mhistogramdd\u001b[0;34m(*args, **kwargs)\u001b[0m\n",
      "\u001b[0;32m/anaconda3/lib/python3.7/site-packages/numpy/lib/histograms.py\u001b[0m in \u001b[0;36mhistogramdd\u001b[0;34m(sample, bins, range, normed, weights, density)\u001b[0m\n\u001b[1;32m   1098\u001b[0m \u001b[0;34m\u001b[0m\u001b[0m\n\u001b[1;32m   1099\u001b[0m     \u001b[0;31m# This preserves the (bad) behavior observed in gh-7845, for now.\u001b[0m\u001b[0;34m\u001b[0m\u001b[0;34m\u001b[0m\u001b[0;34m\u001b[0m\u001b[0m\n\u001b[0;32m-> 1100\u001b[0;31m     \u001b[0mhist\u001b[0m \u001b[0;34m=\u001b[0m \u001b[0mhist\u001b[0m\u001b[0;34m.\u001b[0m\u001b[0mastype\u001b[0m\u001b[0;34m(\u001b[0m\u001b[0mfloat\u001b[0m\u001b[0;34m,\u001b[0m \u001b[0mcasting\u001b[0m\u001b[0;34m=\u001b[0m\u001b[0;34m'safe'\u001b[0m\u001b[0;34m)\u001b[0m\u001b[0;34m\u001b[0m\u001b[0;34m\u001b[0m\u001b[0m\n\u001b[0m\u001b[1;32m   1101\u001b[0m \u001b[0;34m\u001b[0m\u001b[0m\n\u001b[1;32m   1102\u001b[0m     \u001b[0;31m# Remove outliers (indices 0 and -1 for each dimension).\u001b[0m\u001b[0;34m\u001b[0m\u001b[0;34m\u001b[0m\u001b[0;34m\u001b[0m\u001b[0m\n",
      "\u001b[0;31mKeyboardInterrupt\u001b[0m: "
     ]
    }
   ],
   "source": [
    "# Exercise 3.13.1\n",
    "\n",
    "\n",
    "bins = 10\n",
    "\n",
    "rho_list = [-1, -0.5, 0, 0.5, 1]\n",
    "hX = hY = hXY = hX_Y = iXY = viXY = vi_t_XY = np.zeros(len(rho_list))\n",
    "for i in tqdm(range(len(rho_list))):\n",
    "    rho = rho_list[i]\n",
    "    mu, sigma = 0, 1\n",
    "    rr = np.random.normal(mu, sigma, size=(2, 1000))\n",
    "    x,y_ = rr[0,:],rr[1,:]\n",
    "    y = rho * x+np.sqrt(1-rho**2)*y_\n",
    "\n",
    "    # The bi-dimensional histogram of samples x and y. Values in x are histogrammed along the first dimension and values in y are histogrammed along the second dimension.\n",
    "    cXY = np.histogram2d(x, y, bins)[0]\n",
    "    hX[i] = ss.entropy(np.histogram(x, bins)[0])  # marginal\n",
    "    hY[i] = ss.entropy(np.histogram(y, bins)[0])  # marginal\n",
    "    iXY[i] = mutual_info_score(None, None, contingency=cXY)\n",
    "    hXY[i] = hX[i]+hY[i]-iXY[i]  # joint\n",
    "    hX_Y[i] = hXY[i]-hY[i]  # conditional\n",
    "    viXY[i] = varInfo(x, y, bins)\n",
    "    vi_t_XY[i] = varInfo_optBIn(x, y)\n",
    "\n",
    "fig = plt.figure()\n",
    "ax = fig.add_subplot(111)\n",
    "ax.plot(rho_list, hX, label='H[X]')\n",
    "ax.plot(rho_list, hY, label='H[Y]')\n",
    "# ax.plot(rho_list, hXY, label='H[X,Y]')\n",
    "# ax.plot(rho_list, hX_Y, label='H[X|Y]')\n",
    "# ax.plot(rho_list, iXY, label='I[X,Y]')\n",
    "# ax.plot(rho_list, viXY, label='VI[X,Y]')\n",
    "# ax.plot(rho_list, vi_t_XY, label=r'$\\tilde{VI}$[X,Y]')\n",
    "ax.legend()"
   ]
  },
  {
   "cell_type": "code",
   "execution_count": 17,
   "metadata": {
    "ExecuteTime": {
     "end_time": "2020-08-27T21:42:04.009916Z",
     "start_time": "2020-08-27T21:42:03.994430Z"
    }
   },
   "outputs": [
    {
     "data": {
      "text/plain": [
       "array([[1., 0., 0., ..., 0., 0., 0.],\n",
       "       [0., 1., 0., ..., 0., 0., 0.],\n",
       "       [0., 0., 0., ..., 0., 0., 0.],\n",
       "       ...,\n",
       "       [0., 0., 0., ..., 0., 0., 0.],\n",
       "       [0., 0., 0., ..., 0., 0., 0.],\n",
       "       [0., 0., 0., ..., 0., 0., 1.]])"
      ]
     },
     "execution_count": 17,
     "metadata": {},
     "output_type": "execute_result"
    }
   ],
   "source": [
    "cXY = np.histogram2d(x, y, bins)[0]\n",
    "cXY"
   ]
  },
  {
   "cell_type": "code",
   "execution_count": 20,
   "metadata": {
    "ExecuteTime": {
     "end_time": "2020-08-27T21:30:50.493228Z",
     "start_time": "2020-08-27T21:30:50.479832Z"
    }
   },
   "outputs": [
    {
     "data": {
      "text/plain": [
       "(1000,)"
      ]
     },
     "execution_count": 20,
     "metadata": {},
     "output_type": "execute_result"
    }
   ],
   "source": [
    "rr = np.random.normal(mu, sigma, size=(2, 1000))\n",
    "rr[0,:].shape"
   ]
  },
  {
   "cell_type": "code",
   "execution_count": null,
   "metadata": {},
   "outputs": [],
   "source": []
  }
 ],
 "metadata": {
  "kernelspec": {
   "display_name": "Python 3",
   "language": "python",
   "name": "python3"
  },
  "language_info": {
   "codemirror_mode": {
    "name": "ipython",
    "version": 3
   },
   "file_extension": ".py",
   "mimetype": "text/x-python",
   "name": "python",
   "nbconvert_exporter": "python",
   "pygments_lexer": "ipython3",
   "version": "3.7.1"
  },
  "latex_envs": {
   "LaTeX_envs_menu_present": true,
   "autoclose": false,
   "autocomplete": true,
   "bibliofile": "biblio.bib",
   "cite_by": "apalike",
   "current_citInitial": 1,
   "eqLabelWithNumbers": true,
   "eqNumInitial": 1,
   "hotkeys": {
    "equation": "Ctrl-E",
    "itemize": "Ctrl-I"
   },
   "labels_anchors": false,
   "latex_user_defs": false,
   "report_style_numbering": false,
   "user_envs_cfg": false
  },
  "toc": {
   "base_numbering": 1,
   "nav_menu": {},
   "number_sections": true,
   "sideBar": true,
   "skip_h1_title": false,
   "title_cell": "Table of Contents",
   "title_sidebar": "Contents",
   "toc_cell": false,
   "toc_position": {},
   "toc_section_display": true,
   "toc_window_display": false
  }
 },
 "nbformat": 4,
 "nbformat_minor": 2
}
